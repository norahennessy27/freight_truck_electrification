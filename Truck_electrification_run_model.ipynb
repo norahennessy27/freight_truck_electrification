{
 "cells": [
  {
   "cell_type": "code",
   "execution_count": null,
   "id": "99434b0b-6948-44fe-be6f-08c955cca281",
   "metadata": {},
   "outputs": [],
   "source": [
    "from truck_electrification_model import *"
   ]
  },
  {
   "cell_type": "markdown",
   "id": "2fbc29ff-0f7d-4691-930e-0446f435bd0f",
   "metadata": {},
   "source": [
    "## Run all flows for each commodity"
   ]
  },
  {
   "cell_type": "code",
   "execution_count": null,
   "id": "3244b07c-8f44-4e3f-8252-d7006d695f05",
   "metadata": {},
   "outputs": [],
   "source": [
    "commodities = ['TOT Farm Products-Tons_22 All', 'TOT Food, Bev and Tobacco-Tons_22 All','TOT Stone Sand Gravel & Ores-Tons_22 All',\n",
    "              'TOT Liquid and Gases-Tons_22 All', 'TOT Chemicals-Tons_22 All', 'TOT Logs & Oth Wood Prods-Tons_22 All', \n",
    "              'TOT Waste and Scrap-Tons_22 All', 'TOT Consumer Manuf-Tons_22 All',\"TOT Durable Manuf (low tech)-Tons_22 All\", \n",
    "               'TOT Durable Manuf (high tech)-Tons_22 all','TOT Motor and Other Veh-Tons_22 All', 'TOT Mixed Freight-Tons_22 All', 'TOT Tons_22 All']\n",
    "truckflows = ['TOT Farm Products-Trips_22 All', 'TOT Food, Bev and Tobacco-Trips_22 All','TOT Stone Sand Gravel & Ores-Trips_22 All',\n",
    "              'TOT Liquid and Gases-Trips_22 All', 'TOT Chemicals-Trips_22 All', 'TOT Logs & Oth Wood Prods-Trips_22 All', \n",
    "              'TOT Waste and Scrap-Trips_22 All', 'TOT Consumer Manuf-Trips_22 All',\"TOT Durable Manuf (low tech)-Trips_22 All\", \n",
    "               'TOT Durable Manuf (high tech)-Trips_22 all','TOT Motor and Other Veh-Trips_22 All', 'TOT Mixed Freight-Trips_22 All', 'TOT Trips_22 All']\n",
    "\n",
    "\n",
    "\n",
    "\n",
    "\n",
    "diesel_deaths_t = {}\n",
    "diesel_deaths_new_t = {}\n",
    "\n",
    "elec_deaths_t = {}\n",
    "elec_deaths_NREL_mid_t = {}\n",
    "elec_deaths_1980_coal_t = {}\n",
    "\n",
    "diesel_co2_t = {}\n",
    "diesel_co2_new_t = {}\n",
    "\n",
    "elec_co2_t = {}\n",
    "elec_co2_NREL_mid_t = {}\n",
    "elec_co2_1980_coal_t = {}\n",
    "\n",
    "for comm, truckflow in zip(commodities, truckflows):\n",
    "    diesel_deaths_t[comm], diesel_co2_t[comm] = run_diesel_analysis(FAF_db22_t, trucks, \"Diesel\", 2022,comm, truckflow, \"kwh_Diesel_2022\", emfac_efs, \"fleet_avg\")\n",
    "    diesel_deaths_new_t[comm], diesel_co2_new_t[comm] = run_diesel_analysis(FAF_db22_t, trucks, \"Diesel\", 2022,comm, truckflow, \"kwh_Diesel_2022\", emfac_efs_new, \"new_diesel\")\n",
    "    \n",
    "    elec_deaths_t[comm], elec_co2_t[comm] = run_elec_analysis(FAF_db22_t, BAs, trucks,\"Electric\", 2022, comm, truckflow, \"kwh_Electric_2022\", BA_pm25_twh, \"base\", co2_twh)\n",
    "    elec_deaths_NREL_mid_t[comm], elec_co2_NREL_mid_t[comm] = run_elec_analysis(FAF_db22_t, BAs, trucks,\"Electric\", 2022, comm, truckflow, \"kwh_Electric_2022\", BA_pm25_twh_NREL_mid, \"NREL_mid\", co2_twh_NREL_mid)\n",
    "    elec_deaths_1980_coal_t[comm], elec_co2_1980_coal_t[comm] = run_elec_analysis(FAF_db22_t, BAs, trucks,\"Electric\", 2022, comm, truckflow, \"kwh_Electric_2022\", BA_pm25_twh_1980_coal, \"1980_coal\", co2_twh_1980_coal)\n",
    "\n"
   ]
  },
  {
   "cell_type": "markdown",
   "id": "1e134f08-7528-43ed-84bb-7b3f0a8efc69",
   "metadata": {
    "tags": []
   },
   "source": [
    "## Run import and export flows for all commodities"
   ]
  },
  {
   "cell_type": "code",
   "execution_count": null,
   "id": "0f7702ea-d74d-478d-ba41-579eaa82c63c",
   "metadata": {},
   "outputs": [],
   "source": [
    "commodities = ['TOT Tons_22 Imp']\n",
    "truckflows = ['TOT Trips_22 Imp']\n",
    "\n",
    "diesel_deaths_i = {}\n",
    "diesel_co2_i = {}\n",
    "\n",
    "for comm, truckflow in zip(commodities, truckflows):\n",
    "    diesel_deaths_i[comm], diesel_co2_i[comm] = run_diesel_analysis(FAF_db22_i, trucks, \"Diesel\", 2022,comm, truckflow, \"kwh_Diesel_2022\", emfac_efs, \"fleet_avg_imports\")\n",
    "\n",
    "commodities = ['TOT Tons_22 Exp']\n",
    "truckflows = ['TOT Trips_22 Exp']\n",
    "\n",
    "diesel_deaths_e = {}\n",
    "diesel_co2_e = {}\n",
    "for comm, truckflow in zip(commodities, truckflows):\n",
    "    diesel_deaths_e[comm], diesel_co2_e[comm] = run_diesel_analysis(FAF_db22_e, trucks, \"Diesel\", 2022,comm, truckflow, \"kwh_Diesel_2022\", emfac_efs, \"fleet_avg_imports_exports\")\n",
    "\n"
   ]
  },
  {
   "cell_type": "markdown",
   "id": "ad571e85-6e8a-4b60-b810-e13966d5b9fa",
   "metadata": {},
   "source": [
    "## Run all flows for highway corridors"
   ]
  },
  {
   "cell_type": "code",
   "execution_count": null,
   "id": "e8123fc9-58ca-4fbc-8ace-478e819326d3",
   "metadata": {},
   "outputs": [],
   "source": [
    "# RUN ALL COMMODITIES FOR HIGHWAY CORRIDORS\n",
    "commodities = ['TOT Tons_22 All']\n",
    "\n",
    "truckflows = ['TOT Trips_22 All']\n",
    "\n",
    "diesel_deaths_t = {}\n",
    "diesel_deaths_new_t = {}\n",
    "elec_deaths_t = {}\n",
    "elec_deaths_RPS_t = {}\n",
    "elec_deaths_NREL_mid_t = {}\n",
    "elec_deaths_NREL_95_2035_t = {}\n",
    "elec_deaths_no_coal_t = {}\n",
    "elec_deaths_1972_coal_t = {}\n",
    "elec_deaths_1980_coal_t = {}\n",
    "\n",
    "diesel_co2_t = {}\n",
    "diesel_co2_new_t = {}\n",
    "elec_co2_t = {}\n",
    "elec_co2_RPS_t = {}\n",
    "elec_co2_NREL_mid_t = {}\n",
    "elec_co2_NREL_95_2035_t = {}\n",
    "elec_co2_no_coal_t = {}\n",
    "elec_co2_1972_coal_t = {}\n",
    "elec_co2_1980_coal_t = {}\n",
    "for comm, truckflow in zip(commodities, truckflows):\n",
    "    for hwy in [5,10,15,20,25,30,35,40,45,55,65,70,75,80,85,90,95]:\n",
    "        print(hwy)\n",
    "        diesel_deaths_t[comm], diesel_co2_t[comm] = run_diesel_analysis(FAF_db22_t[FAF_db22_t.Sign_Rte==f\"I {hwy}\"], trucks, \"Diesel\", 2022,comm, truckflow, \"kwh_Diesel_2022\", emfac_efs, f\"fleet_avg_I_{hwy}\")\n",
    "        diesel_deaths_new_t[comm], diesel_co2_new_t[comm] = run_diesel_analysis(FAF_db22_t[FAF_db22_t.Sign_Rte==f\"I {hwy}\"], trucks, \"Diesel\", 2022,comm, truckflow, \"kwh_Diesel_2022\", emfac_efs_new, f\"new_diesel_I_{hwy}\")\n",
    "        elec_deaths_t[comm], elec_co2_t[comm] = run_elec_analysis(FAF_db22_t[FAF_db22_t.Sign_Rte==f\"I {hwy}\"], BAs, trucks,\"Electric\", 2022, comm, truckflow, \"kwh_Electric_2022\", BA_pm25_twh, f\"base_I_{hwy}\", co2_twh)"
   ]
  }
 ],
 "metadata": {
  "kernelspec": {
   "display_name": "Python 3 (ipykernel)",
   "language": "python",
   "name": "python3"
  },
  "language_info": {
   "codemirror_mode": {
    "name": "ipython",
    "version": 3
   },
   "file_extension": ".py",
   "mimetype": "text/x-python",
   "name": "python",
   "nbconvert_exporter": "python",
   "pygments_lexer": "ipython3",
   "version": "3.9.16"
  }
 },
 "nbformat": 4,
 "nbformat_minor": 5
}
